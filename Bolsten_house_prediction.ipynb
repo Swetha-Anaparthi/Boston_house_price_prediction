{
  "nbformat": 4,
  "nbformat_minor": 0,
  "metadata": {
    "colab": {
      "name": "Bolsten_house_prediction.ipynb",
      "provenance": [],
      "collapsed_sections": [],
      "authorship_tag": "ABX9TyMMBBVGhsfbNTQ0QBJON6Gv",
      "include_colab_link": true
    },
    "kernelspec": {
      "name": "python3",
      "display_name": "Python 3"
    },
    "language_info": {
      "name": "python"
    }
  },
  "cells": [
    {
      "cell_type": "markdown",
      "metadata": {
        "id": "view-in-github",
        "colab_type": "text"
      },
      "source": [
        "<a href=\"https://colab.research.google.com/github/Swetha-Anaparthi/Boston_house_price_prediction/blob/main/Bolsten_house_prediction.ipynb\" target=\"_parent\"><img src=\"https://colab.research.google.com/assets/colab-badge.svg\" alt=\"Open In Colab\"/></a>"
      ]
    },
    {
      "cell_type": "code",
      "execution_count": null,
      "metadata": {
        "id": "iw-cZbLX4Ivr"
      },
      "outputs": [],
      "source": [
        "import pandas as pd\n",
        "import numpy as np\n",
        "from sklearn.linear_model import LinearRegression\n",
        "import matplotlib.pyplot as plt\n",
        "import seaborn as sns\n",
        "from sklearn.metrics import r2_score"
      ]
    },
    {
      "cell_type": "code",
      "source": [
        "from google.colab import files\n",
        "data=files.upload()"
      ],
      "metadata": {
        "colab": {
          "resources": {
            "http://localhost:8080/nbextensions/google.colab/files.js": {
              "data": "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",
              "ok": true,
              "headers": [
                [
                  "content-type",
                  "application/javascript"
                ]
              ],
              "status": 200,
              "status_text": ""
            }
          },
          "base_uri": "https://localhost:8080/",
          "height": 74
        },
        "id": "9YT2RSZ15Zd4",
        "outputId": "d1c0e091-7a51-452e-9c50-8127f96324a5"
      },
      "execution_count": null,
      "outputs": [
        {
          "output_type": "display_data",
          "data": {
            "text/plain": [
              "<IPython.core.display.HTML object>"
            ],
            "text/html": [
              "\n",
              "     <input type=\"file\" id=\"files-158fed7a-41f9-4f05-a56e-36453622df57\" name=\"files[]\" multiple disabled\n",
              "        style=\"border:none\" />\n",
              "     <output id=\"result-158fed7a-41f9-4f05-a56e-36453622df57\">\n",
              "      Upload widget is only available when the cell has been executed in the\n",
              "      current browser session. Please rerun this cell to enable.\n",
              "      </output>\n",
              "      <script src=\"/nbextensions/google.colab/files.js\"></script> "
            ]
          },
          "metadata": {}
        },
        {
          "output_type": "stream",
          "name": "stdout",
          "text": [
            "Saving bolsten_house_train.csv to bolsten_house_train.csv\n"
          ]
        }
      ]
    },
    {
      "cell_type": "code",
      "source": [
        "data=pd.read_csv(r\"/content/bolsten_house_train.csv\")\n",
        "data"
      ],
      "metadata": {
        "colab": {
          "base_uri": "https://localhost:8080/",
          "height": 423
        },
        "id": "4k2BC4IT5POF",
        "outputId": "ad300a5a-912d-4804-b3c1-ebf144d2f9c9"
      },
      "execution_count": null,
      "outputs": [
        {
          "output_type": "execute_result",
          "data": {
            "text/plain": [
              "      ID     CRIM    ZN  INDUS  CHAS    NOX     RM    AGE     DIS  RAD    TAX  \\\n",
              "0      0  0.95577   0.0   8.14     0  0.538  6.047   88.8  4.4534    4  307.0   \n",
              "1      1  0.02875  28.0  15.04     0  0.464  6.211   28.9  3.6659    4  270.0   \n",
              "2      2  1.22358   0.0  19.58     0  0.605  6.943   97.4  1.8773    5  403.0   \n",
              "3      3  5.66637   0.0  18.10     0  0.740  6.219  100.0  2.0048   24  666.0   \n",
              "4      4  0.04544   0.0   3.24     0  0.460  6.144   32.2  5.8736    4  430.0   \n",
              "..   ...      ...   ...    ...   ...    ...    ...    ...     ...  ...    ...   \n",
              "395  395  0.03615  80.0   4.95     0  0.411  6.630   23.4  5.1167    4  245.0   \n",
              "396  396  0.17505   0.0   5.96     0  0.499  5.966   30.2  3.8473    5  279.0   \n",
              "397  397  6.65492   0.0  18.10     0  0.713  6.317   83.0  2.7344   24  666.0   \n",
              "398  398  0.13117   0.0   8.56     0  0.520  6.127   85.2  2.1224    5  384.0   \n",
              "399  399  0.06466  70.0   2.24     0  0.400  6.345   20.1  7.8278    5  358.0   \n",
              "\n",
              "     PTRATIO       B  LSTAT  MEDV  \n",
              "0       21.0  306.38  17.28  14.8  \n",
              "1       18.2  396.33   6.21  25.0  \n",
              "2       14.7  363.43   4.59  41.3  \n",
              "3       20.2  395.69  16.59  18.4  \n",
              "4       16.9  368.57   9.09  19.8  \n",
              "..       ...     ...    ...   ...  \n",
              "395     19.2  396.90   4.70  27.9  \n",
              "396     19.2  393.43  10.13  24.7  \n",
              "397     20.2  396.90  13.99  19.5  \n",
              "398     20.9  387.69  14.09  20.4  \n",
              "399     14.8  368.24   4.97  22.5  \n",
              "\n",
              "[400 rows x 15 columns]"
            ],
            "text/html": [
              "\n",
              "  <div id=\"df-fa459225-0ba1-466b-a12d-1e84452f7d90\">\n",
              "    <div class=\"colab-df-container\">\n",
              "      <div>\n",
              "<style scoped>\n",
              "    .dataframe tbody tr th:only-of-type {\n",
              "        vertical-align: middle;\n",
              "    }\n",
              "\n",
              "    .dataframe tbody tr th {\n",
              "        vertical-align: top;\n",
              "    }\n",
              "\n",
              "    .dataframe thead th {\n",
              "        text-align: right;\n",
              "    }\n",
              "</style>\n",
              "<table border=\"1\" class=\"dataframe\">\n",
              "  <thead>\n",
              "    <tr style=\"text-align: right;\">\n",
              "      <th></th>\n",
              "      <th>ID</th>\n",
              "      <th>CRIM</th>\n",
              "      <th>ZN</th>\n",
              "      <th>INDUS</th>\n",
              "      <th>CHAS</th>\n",
              "      <th>NOX</th>\n",
              "      <th>RM</th>\n",
              "      <th>AGE</th>\n",
              "      <th>DIS</th>\n",
              "      <th>RAD</th>\n",
              "      <th>TAX</th>\n",
              "      <th>PTRATIO</th>\n",
              "      <th>B</th>\n",
              "      <th>LSTAT</th>\n",
              "      <th>MEDV</th>\n",
              "    </tr>\n",
              "  </thead>\n",
              "  <tbody>\n",
              "    <tr>\n",
              "      <th>0</th>\n",
              "      <td>0</td>\n",
              "      <td>0.95577</td>\n",
              "      <td>0.0</td>\n",
              "      <td>8.14</td>\n",
              "      <td>0</td>\n",
              "      <td>0.538</td>\n",
              "      <td>6.047</td>\n",
              "      <td>88.8</td>\n",
              "      <td>4.4534</td>\n",
              "      <td>4</td>\n",
              "      <td>307.0</td>\n",
              "      <td>21.0</td>\n",
              "      <td>306.38</td>\n",
              "      <td>17.28</td>\n",
              "      <td>14.8</td>\n",
              "    </tr>\n",
              "    <tr>\n",
              "      <th>1</th>\n",
              "      <td>1</td>\n",
              "      <td>0.02875</td>\n",
              "      <td>28.0</td>\n",
              "      <td>15.04</td>\n",
              "      <td>0</td>\n",
              "      <td>0.464</td>\n",
              "      <td>6.211</td>\n",
              "      <td>28.9</td>\n",
              "      <td>3.6659</td>\n",
              "      <td>4</td>\n",
              "      <td>270.0</td>\n",
              "      <td>18.2</td>\n",
              "      <td>396.33</td>\n",
              "      <td>6.21</td>\n",
              "      <td>25.0</td>\n",
              "    </tr>\n",
              "    <tr>\n",
              "      <th>2</th>\n",
              "      <td>2</td>\n",
              "      <td>1.22358</td>\n",
              "      <td>0.0</td>\n",
              "      <td>19.58</td>\n",
              "      <td>0</td>\n",
              "      <td>0.605</td>\n",
              "      <td>6.943</td>\n",
              "      <td>97.4</td>\n",
              "      <td>1.8773</td>\n",
              "      <td>5</td>\n",
              "      <td>403.0</td>\n",
              "      <td>14.7</td>\n",
              "      <td>363.43</td>\n",
              "      <td>4.59</td>\n",
              "      <td>41.3</td>\n",
              "    </tr>\n",
              "    <tr>\n",
              "      <th>3</th>\n",
              "      <td>3</td>\n",
              "      <td>5.66637</td>\n",
              "      <td>0.0</td>\n",
              "      <td>18.10</td>\n",
              "      <td>0</td>\n",
              "      <td>0.740</td>\n",
              "      <td>6.219</td>\n",
              "      <td>100.0</td>\n",
              "      <td>2.0048</td>\n",
              "      <td>24</td>\n",
              "      <td>666.0</td>\n",
              "      <td>20.2</td>\n",
              "      <td>395.69</td>\n",
              "      <td>16.59</td>\n",
              "      <td>18.4</td>\n",
              "    </tr>\n",
              "    <tr>\n",
              "      <th>4</th>\n",
              "      <td>4</td>\n",
              "      <td>0.04544</td>\n",
              "      <td>0.0</td>\n",
              "      <td>3.24</td>\n",
              "      <td>0</td>\n",
              "      <td>0.460</td>\n",
              "      <td>6.144</td>\n",
              "      <td>32.2</td>\n",
              "      <td>5.8736</td>\n",
              "      <td>4</td>\n",
              "      <td>430.0</td>\n",
              "      <td>16.9</td>\n",
              "      <td>368.57</td>\n",
              "      <td>9.09</td>\n",
              "      <td>19.8</td>\n",
              "    </tr>\n",
              "    <tr>\n",
              "      <th>...</th>\n",
              "      <td>...</td>\n",
              "      <td>...</td>\n",
              "      <td>...</td>\n",
              "      <td>...</td>\n",
              "      <td>...</td>\n",
              "      <td>...</td>\n",
              "      <td>...</td>\n",
              "      <td>...</td>\n",
              "      <td>...</td>\n",
              "      <td>...</td>\n",
              "      <td>...</td>\n",
              "      <td>...</td>\n",
              "      <td>...</td>\n",
              "      <td>...</td>\n",
              "      <td>...</td>\n",
              "    </tr>\n",
              "    <tr>\n",
              "      <th>395</th>\n",
              "      <td>395</td>\n",
              "      <td>0.03615</td>\n",
              "      <td>80.0</td>\n",
              "      <td>4.95</td>\n",
              "      <td>0</td>\n",
              "      <td>0.411</td>\n",
              "      <td>6.630</td>\n",
              "      <td>23.4</td>\n",
              "      <td>5.1167</td>\n",
              "      <td>4</td>\n",
              "      <td>245.0</td>\n",
              "      <td>19.2</td>\n",
              "      <td>396.90</td>\n",
              "      <td>4.70</td>\n",
              "      <td>27.9</td>\n",
              "    </tr>\n",
              "    <tr>\n",
              "      <th>396</th>\n",
              "      <td>396</td>\n",
              "      <td>0.17505</td>\n",
              "      <td>0.0</td>\n",
              "      <td>5.96</td>\n",
              "      <td>0</td>\n",
              "      <td>0.499</td>\n",
              "      <td>5.966</td>\n",
              "      <td>30.2</td>\n",
              "      <td>3.8473</td>\n",
              "      <td>5</td>\n",
              "      <td>279.0</td>\n",
              "      <td>19.2</td>\n",
              "      <td>393.43</td>\n",
              "      <td>10.13</td>\n",
              "      <td>24.7</td>\n",
              "    </tr>\n",
              "    <tr>\n",
              "      <th>397</th>\n",
              "      <td>397</td>\n",
              "      <td>6.65492</td>\n",
              "      <td>0.0</td>\n",
              "      <td>18.10</td>\n",
              "      <td>0</td>\n",
              "      <td>0.713</td>\n",
              "      <td>6.317</td>\n",
              "      <td>83.0</td>\n",
              "      <td>2.7344</td>\n",
              "      <td>24</td>\n",
              "      <td>666.0</td>\n",
              "      <td>20.2</td>\n",
              "      <td>396.90</td>\n",
              "      <td>13.99</td>\n",
              "      <td>19.5</td>\n",
              "    </tr>\n",
              "    <tr>\n",
              "      <th>398</th>\n",
              "      <td>398</td>\n",
              "      <td>0.13117</td>\n",
              "      <td>0.0</td>\n",
              "      <td>8.56</td>\n",
              "      <td>0</td>\n",
              "      <td>0.520</td>\n",
              "      <td>6.127</td>\n",
              "      <td>85.2</td>\n",
              "      <td>2.1224</td>\n",
              "      <td>5</td>\n",
              "      <td>384.0</td>\n",
              "      <td>20.9</td>\n",
              "      <td>387.69</td>\n",
              "      <td>14.09</td>\n",
              "      <td>20.4</td>\n",
              "    </tr>\n",
              "    <tr>\n",
              "      <th>399</th>\n",
              "      <td>399</td>\n",
              "      <td>0.06466</td>\n",
              "      <td>70.0</td>\n",
              "      <td>2.24</td>\n",
              "      <td>0</td>\n",
              "      <td>0.400</td>\n",
              "      <td>6.345</td>\n",
              "      <td>20.1</td>\n",
              "      <td>7.8278</td>\n",
              "      <td>5</td>\n",
              "      <td>358.0</td>\n",
              "      <td>14.8</td>\n",
              "      <td>368.24</td>\n",
              "      <td>4.97</td>\n",
              "      <td>22.5</td>\n",
              "    </tr>\n",
              "  </tbody>\n",
              "</table>\n",
              "<p>400 rows × 15 columns</p>\n",
              "</div>\n",
              "      <button class=\"colab-df-convert\" onclick=\"convertToInteractive('df-fa459225-0ba1-466b-a12d-1e84452f7d90')\"\n",
              "              title=\"Convert this dataframe to an interactive table.\"\n",
              "              style=\"display:none;\">\n",
              "        \n",
              "  <svg xmlns=\"http://www.w3.org/2000/svg\" height=\"24px\"viewBox=\"0 0 24 24\"\n",
              "       width=\"24px\">\n",
              "    <path d=\"M0 0h24v24H0V0z\" fill=\"none\"/>\n",
              "    <path d=\"M18.56 5.44l.94 2.06.94-2.06 2.06-.94-2.06-.94-.94-2.06-.94 2.06-2.06.94zm-11 1L8.5 8.5l.94-2.06 2.06-.94-2.06-.94L8.5 2.5l-.94 2.06-2.06.94zm10 10l.94 2.06.94-2.06 2.06-.94-2.06-.94-.94-2.06-.94 2.06-2.06.94z\"/><path d=\"M17.41 7.96l-1.37-1.37c-.4-.4-.92-.59-1.43-.59-.52 0-1.04.2-1.43.59L10.3 9.45l-7.72 7.72c-.78.78-.78 2.05 0 2.83L4 21.41c.39.39.9.59 1.41.59.51 0 1.02-.2 1.41-.59l7.78-7.78 2.81-2.81c.8-.78.8-2.07 0-2.86zM5.41 20L4 18.59l7.72-7.72 1.47 1.35L5.41 20z\"/>\n",
              "  </svg>\n",
              "      </button>\n",
              "      \n",
              "  <style>\n",
              "    .colab-df-container {\n",
              "      display:flex;\n",
              "      flex-wrap:wrap;\n",
              "      gap: 12px;\n",
              "    }\n",
              "\n",
              "    .colab-df-convert {\n",
              "      background-color: #E8F0FE;\n",
              "      border: none;\n",
              "      border-radius: 50%;\n",
              "      cursor: pointer;\n",
              "      display: none;\n",
              "      fill: #1967D2;\n",
              "      height: 32px;\n",
              "      padding: 0 0 0 0;\n",
              "      width: 32px;\n",
              "    }\n",
              "\n",
              "    .colab-df-convert:hover {\n",
              "      background-color: #E2EBFA;\n",
              "      box-shadow: 0px 1px 2px rgba(60, 64, 67, 0.3), 0px 1px 3px 1px rgba(60, 64, 67, 0.15);\n",
              "      fill: #174EA6;\n",
              "    }\n",
              "\n",
              "    [theme=dark] .colab-df-convert {\n",
              "      background-color: #3B4455;\n",
              "      fill: #D2E3FC;\n",
              "    }\n",
              "\n",
              "    [theme=dark] .colab-df-convert:hover {\n",
              "      background-color: #434B5C;\n",
              "      box-shadow: 0px 1px 3px 1px rgba(0, 0, 0, 0.15);\n",
              "      filter: drop-shadow(0px 1px 2px rgba(0, 0, 0, 0.3));\n",
              "      fill: #FFFFFF;\n",
              "    }\n",
              "  </style>\n",
              "\n",
              "      <script>\n",
              "        const buttonEl =\n",
              "          document.querySelector('#df-fa459225-0ba1-466b-a12d-1e84452f7d90 button.colab-df-convert');\n",
              "        buttonEl.style.display =\n",
              "          google.colab.kernel.accessAllowed ? 'block' : 'none';\n",
              "\n",
              "        async function convertToInteractive(key) {\n",
              "          const element = document.querySelector('#df-fa459225-0ba1-466b-a12d-1e84452f7d90');\n",
              "          const dataTable =\n",
              "            await google.colab.kernel.invokeFunction('convertToInteractive',\n",
              "                                                     [key], {});\n",
              "          if (!dataTable) return;\n",
              "\n",
              "          const docLinkHtml = 'Like what you see? Visit the ' +\n",
              "            '<a target=\"_blank\" href=https://colab.research.google.com/notebooks/data_table.ipynb>data table notebook</a>'\n",
              "            + ' to learn more about interactive tables.';\n",
              "          element.innerHTML = '';\n",
              "          dataTable['output_type'] = 'display_data';\n",
              "          await google.colab.output.renderOutput(dataTable, element);\n",
              "          const docLink = document.createElement('div');\n",
              "          docLink.innerHTML = docLinkHtml;\n",
              "          element.appendChild(docLink);\n",
              "        }\n",
              "      </script>\n",
              "    </div>\n",
              "  </div>\n",
              "  "
            ]
          },
          "metadata": {},
          "execution_count": 117
        }
      ]
    },
    {
      "cell_type": "code",
      "source": [
        "train_id=data[\"ID\"]"
      ],
      "metadata": {
        "id": "aaLrhy9VTzdz"
      },
      "execution_count": null,
      "outputs": []
    },
    {
      "cell_type": "markdown",
      "source": [
        "**Data Cleaning**"
      ],
      "metadata": {
        "id": "nnIPVFxaA4nW"
      }
    },
    {
      "cell_type": "code",
      "source": [
        "data.isna().sum()"
      ],
      "metadata": {
        "id": "0fi826cl5-ES"
      },
      "execution_count": null,
      "outputs": []
    },
    {
      "cell_type": "markdown",
      "source": [
        "No null values"
      ],
      "metadata": {
        "id": "OdE9KqFDBGUm"
      }
    },
    {
      "cell_type": "code",
      "source": [
        "x=data[[\"ID\",\"CRIM\",\t\"ZN\",\t\"INDUS\",\t\"CHAS\",\t\"NOX\",\t\"RM\",\t\"AGE\",\t\"DIS\",\t\"RAD\",\t\"TAX\",\t\"PTRATIO\",\t\"B\",\t\"LSTAT\"\t]]\n",
        "y=data[\"MEDV\"]"
      ],
      "metadata": {
        "id": "U-m5kwfRBA4y"
      },
      "execution_count": null,
      "outputs": []
    },
    {
      "cell_type": "code",
      "source": [
        "y"
      ],
      "metadata": {
        "id": "K9yBz_NvEkG8"
      },
      "execution_count": null,
      "outputs": []
    },
    {
      "cell_type": "code",
      "source": [
        "test=pd.read_csv(r\"/content/bolsten_house_train.csv\")\n",
        "test"
      ],
      "metadata": {
        "id": "i8mTMdfB6pvd"
      },
      "execution_count": null,
      "outputs": []
    },
    {
      "cell_type": "code",
      "source": [
        "test_id=test[\"ID\"]"
      ],
      "metadata": {
        "id": "-H_8_EPyT71X"
      },
      "execution_count": null,
      "outputs": []
    },
    {
      "cell_type": "code",
      "source": [
        "x_test=test[[\"ID\",\"CRIM\",\t\"ZN\",\t\"INDUS\",\t\"CHAS\",\t\"NOX\",\t\"RM\",\t\"AGE\",\t\"DIS\",\t\"RAD\",\t\"TAX\",\t\"PTRATIO\",\t\"B\",\t\"LSTAT\"\t]]\n",
        "y_test=test[\"MEDV\"]"
      ],
      "metadata": {
        "id": "mDonNls361lt"
      },
      "execution_count": null,
      "outputs": []
    },
    {
      "cell_type": "markdown",
      "source": [
        "Linear regression using gradient descent with l2 reqularization "
      ],
      "metadata": {
        "id": "PnZeLxE_zQHG"
      }
    },
    {
      "cell_type": "code",
      "source": [
        "from sklearn.linear_model import SGDRegressor\n",
        "model=SGDRegressor(eta0=0.00000005,penalty=\"l2\",max_iter=10000)\n",
        "model.fit(x,y)"
      ],
      "metadata": {
        "colab": {
          "base_uri": "https://localhost:8080/"
        },
        "id": "DnTilkT_4M1w",
        "outputId": "672c6f27-1897-477e-81e1-cd5c18463a3a"
      },
      "execution_count": null,
      "outputs": [
        {
          "output_type": "execute_result",
          "data": {
            "text/plain": [
              "SGDRegressor(eta0=5e-08, max_iter=10000)"
            ]
          },
          "metadata": {},
          "execution_count": 113
        }
      ]
    },
    {
      "cell_type": "code",
      "source": [
        "y_hat=model.predict(x)\n",
        "y_hat"
      ],
      "metadata": {
        "colab": {
          "base_uri": "https://localhost:8080/"
        },
        "id": "x_VrLFYS-Pso",
        "outputId": "95555aad-c168-414f-8065-126a7be7b26a"
      },
      "execution_count": null,
      "outputs": [
        {
          "output_type": "execute_result",
          "data": {
            "text/plain": [
              "array([1.99704826e+15, 2.03705571e+15, 2.39781651e+15, 2.64708059e+15,\n",
              "       2.03313376e+15, 1.70130457e+15, 6.75604366e+14, 2.61388773e+15,\n",
              "       2.06856327e+15, 2.37267022e+15, 2.20777220e+15, 2.10146869e+15,\n",
              "       2.59846812e+15, 2.62331469e+15, 2.43207467e+15, 8.03470755e+14,\n",
              "       1.12732243e+15, 2.60731791e+15, 1.87365673e+15, 2.10956262e+15,\n",
              "       2.13855840e+15, 2.28081677e+15, 2.61859786e+15, 2.29458318e+15,\n",
              "       2.24533375e+15, 2.39285676e+15, 2.47016882e+15, 2.28698953e+15,\n",
              "       2.14084052e+15, 2.10923196e+15, 2.41810441e+15, 2.63981559e+15,\n",
              "       2.25364237e+15, 2.30462483e+15, 2.59696179e+15, 2.70776628e+15,\n",
              "       2.16179601e+15, 1.77800375e+15, 2.18899607e+15, 2.31153949e+15,\n",
              "       2.07251981e+15, 2.32180159e+15, 2.40838485e+15, 2.47519035e+15,\n",
              "       2.21167398e+15, 2.51443782e+15, 2.29556970e+15, 7.87827961e+14,\n",
              "       2.65233966e+15, 2.37345487e+15, 1.16165938e+15, 1.21619074e+15,\n",
              "       2.38960635e+15, 2.17487145e+15, 2.48335942e+15, 2.59476050e+15,\n",
              "       2.36138782e+15, 2.43554851e+15, 1.89826578e+15, 2.58635662e+15,\n",
              "       2.30453295e+15, 2.72697398e+15, 1.87030966e+15, 2.27173256e+15,\n",
              "       2.49338719e+15, 2.52696273e+15, 2.69325204e+15, 2.83967263e+15,\n",
              "       2.65896830e+15, 2.50398459e+15, 2.69445612e+15, 1.99253228e+15,\n",
              "       2.54853322e+15, 2.77810708e+15, 2.38775084e+15, 2.52743383e+15,\n",
              "       2.01745271e+15, 2.27810259e+15, 2.16099965e+15, 2.55286159e+15,\n",
              "       2.84965209e+15, 2.57643076e+15, 2.50743959e+15, 2.19048648e+15,\n",
              "       2.43837020e+15, 2.48632487e+15, 2.49828966e+15, 1.95973671e+15,\n",
              "       1.49822921e+15, 2.28341846e+15, 2.05232991e+15, 2.41516345e+15,\n",
              "       2.54711109e+15, 2.45191320e+15, 2.13003041e+15, 2.51584265e+15,\n",
              "       2.10449836e+15, 2.18592600e+15, 2.49621514e+15, 2.17446130e+15,\n",
              "       2.43902205e+15, 2.05527397e+15, 2.36144841e+15, 2.43010972e+15,\n",
              "       2.28413777e+15, 2.63732652e+15, 2.36487189e+15, 2.67084147e+15,\n",
              "       2.85205613e+15, 2.56440671e+15, 2.91364216e+15, 2.67723643e+15,\n",
              "       2.46554830e+15, 2.58353417e+15, 2.61276651e+15, 2.09840321e+15,\n",
              "       2.72598972e+15, 1.99194500e+15, 2.88310474e+15, 2.94391725e+15,\n",
              "       1.49045147e+15, 2.87303303e+15, 2.35932448e+15, 2.38151709e+15,\n",
              "       2.78839163e+15, 2.74288743e+15, 2.66401371e+15, 2.15500806e+15,\n",
              "       2.98063676e+15, 2.35038607e+15, 2.83552406e+15, 2.55543152e+15,\n",
              "       2.88731588e+15, 2.81980235e+15, 2.53354231e+15, 2.94923328e+15,\n",
              "       2.82854348e+15, 2.40761594e+15, 2.54130220e+15, 2.92821447e+15,\n",
              "       2.92320168e+15, 2.74159857e+15, 2.24397269e+15, 2.71702162e+15,\n",
              "       2.89092656e+15, 2.85539401e+15, 2.95584780e+15, 2.89069238e+15,\n",
              "       2.52925163e+15, 2.56429139e+15, 2.81722356e+15, 2.42965262e+15,\n",
              "       2.31293727e+15, 1.63324654e+15, 2.58883722e+15, 2.82547052e+15,\n",
              "       2.50695098e+15, 2.92343922e+15, 2.58495482e+15, 2.59592837e+15,\n",
              "       2.95249108e+15, 2.28013804e+15, 2.45673127e+15, 2.19704525e+15,\n",
              "       1.48856353e+15, 2.92613732e+15, 1.21380500e+15, 2.36660894e+15,\n",
              "       2.64584021e+15, 2.71723136e+15, 2.73504887e+15, 2.47078132e+15,\n",
              "       2.92674640e+15, 2.57104570e+15, 2.96811687e+15, 2.56104002e+15,\n",
              "       2.85968716e+15, 2.55947887e+15, 2.45727283e+15, 2.24802827e+15,\n",
              "       1.62085456e+15, 2.87024081e+15, 2.47530490e+15, 2.76236601e+15,\n",
              "       2.81072329e+15, 2.67673020e+15, 2.90707782e+15, 2.63220357e+15,\n",
              "       2.23483742e+15, 3.02640697e+15, 3.10818665e+15, 2.05537064e+15,\n",
              "       2.78439443e+15, 1.98288700e+15, 2.95840978e+15, 2.72675242e+15,\n",
              "       2.69871773e+15, 2.33413845e+15, 2.87528433e+15, 2.23474719e+15,\n",
              "       2.39785486e+15, 2.88361008e+15, 3.10981772e+15, 2.94247027e+15,\n",
              "       2.89467898e+15, 3.12014649e+15, 2.58556878e+15, 2.65853665e+15,\n",
              "       2.71747487e+15, 2.61861021e+15, 3.06755078e+15, 2.87159600e+15,\n",
              "       1.31750040e+15, 2.47240317e+15, 3.08555136e+15, 2.63763005e+15,\n",
              "       2.16323895e+15, 2.44219581e+15, 2.80275488e+15, 2.33134532e+15,\n",
              "       3.16762257e+15, 2.83602355e+15, 2.92253911e+15, 2.44183614e+15,\n",
              "       2.56432018e+15, 2.73923790e+15, 3.15873088e+15, 2.10153464e+15,\n",
              "       2.37720025e+15, 2.30435648e+15, 2.95750428e+15, 2.70325448e+15,\n",
              "       2.36095546e+15, 2.95656495e+15, 2.96000705e+15, 3.04429675e+15,\n",
              "       2.96842875e+15, 2.61200438e+15, 2.69357449e+15, 2.85453279e+15,\n",
              "       2.91691750e+15, 2.97641817e+15, 3.25277737e+15, 2.85776377e+15,\n",
              "       2.67000969e+15, 2.58077220e+15, 2.95155886e+15, 3.20651472e+15,\n",
              "       2.86674442e+15, 2.60678125e+15, 1.44078134e+15, 2.48246989e+15,\n",
              "       3.01516767e+15, 2.54807915e+15, 3.06897593e+15, 2.89120422e+15,\n",
              "       2.96762402e+15, 1.52518491e+15, 2.79925097e+15, 2.98591975e+15,\n",
              "       2.72197324e+15, 1.67918458e+15, 3.02472312e+15, 2.66766641e+15,\n",
              "       3.03825536e+15, 3.09731176e+15, 2.46425115e+15, 2.63730107e+15,\n",
              "       2.62910694e+15, 2.99373839e+15, 2.86492580e+15, 3.14833222e+15,\n",
              "       1.39926940e+15, 2.62121860e+15, 3.18498571e+15, 3.26706467e+15,\n",
              "       2.99718108e+15, 3.30305595e+15, 2.84280952e+15, 3.02758168e+15,\n",
              "       3.32443056e+15, 2.78180042e+15, 2.86057001e+15, 3.04128327e+15,\n",
              "       2.96286718e+15, 2.81069341e+15, 2.64573722e+15, 3.14574057e+15,\n",
              "       2.81237388e+15, 2.65967727e+15, 2.61752446e+15, 3.00836713e+15,\n",
              "       3.11822580e+15, 2.75493313e+15, 2.80280683e+15, 2.67664010e+15,\n",
              "       3.21461835e+15, 2.91704734e+15, 3.36194006e+15, 2.89311888e+15,\n",
              "       2.46013404e+15, 3.35634958e+15, 3.29710354e+15, 3.21961015e+15,\n",
              "       2.69184610e+15, 3.20665895e+15, 2.52108432e+15, 2.90910834e+15,\n",
              "       3.02020256e+15, 3.32604864e+15, 1.60914274e+15, 3.07966175e+15,\n",
              "       2.70673472e+15, 2.98903062e+15, 2.69261833e+15, 3.03413486e+15,\n",
              "       3.16712538e+15, 3.14895627e+15, 2.98885243e+15, 3.11796565e+15,\n",
              "       3.04585664e+15, 3.05216801e+15, 3.21183893e+15, 3.29590035e+15,\n",
              "       3.20061004e+15, 3.21144817e+15, 2.58283112e+15, 3.02245753e+15,\n",
              "       3.47725997e+15, 2.94884493e+15, 2.87507718e+15, 3.45094638e+15,\n",
              "       3.17524055e+15, 3.38375219e+15, 3.02542259e+15, 3.14944714e+15,\n",
              "       2.77127869e+15, 1.49761798e+15, 2.99155496e+15, 3.05626617e+15,\n",
              "       2.86791908e+15, 3.06826117e+15, 2.80575637e+15, 3.15381049e+15,\n",
              "       3.25353221e+15, 2.92816760e+15, 3.35386251e+15, 1.80072835e+15,\n",
              "       2.81928965e+15, 1.76419489e+15, 2.50036262e+15, 2.84461302e+15,\n",
              "       1.55942990e+15, 3.14734221e+15, 2.74623429e+15, 3.05341019e+15,\n",
              "       2.65049399e+15, 3.37163000e+15, 3.08710195e+15, 3.28588017e+15,\n",
              "       3.12778999e+15, 3.22399038e+15, 3.24054253e+15, 3.36092738e+15,\n",
              "       2.68844684e+15, 2.78174228e+15, 1.92742272e+15, 3.28806443e+15,\n",
              "       3.15226226e+15, 1.61988623e+15, 3.28227159e+15, 3.54713171e+15,\n",
              "       3.53690119e+15, 3.02415050e+15, 3.20463547e+15, 3.56113094e+15,\n",
              "       3.31556821e+15, 3.35974122e+15, 3.22393340e+15, 3.33045026e+15,\n",
              "       2.92764737e+15, 3.39360377e+15, 3.04726291e+15, 2.92931444e+15,\n",
              "       3.02357211e+15, 2.92748232e+15, 3.07692992e+15, 2.73381233e+15,\n",
              "       3.21267766e+15, 3.14194912e+15, 3.55552958e+15, 1.88761128e+15,\n",
              "       3.31847349e+15, 3.48287938e+15, 3.23066706e+15, 2.78515363e+15,\n",
              "       3.06235397e+15, 3.53011737e+15, 3.38116739e+15, 2.71146289e+15])"
            ]
          },
          "metadata": {},
          "execution_count": 73
        }
      ]
    },
    {
      "cell_type": "code",
      "source": [
        "model.n_iter_"
      ],
      "metadata": {
        "colab": {
          "base_uri": "https://localhost:8080/"
        },
        "id": "dORQXpfC7pzr",
        "outputId": "dc9eff29-995a-4010-9057-258fa5f526d4"
      },
      "execution_count": null,
      "outputs": [
        {
          "output_type": "execute_result",
          "data": {
            "text/plain": [
              "60"
            ]
          },
          "metadata": {},
          "execution_count": 74
        }
      ]
    },
    {
      "cell_type": "code",
      "source": [
        "\n",
        "model.predict(x_test).shape"
      ],
      "metadata": {
        "colab": {
          "base_uri": "https://localhost:8080/"
        },
        "id": "xqhC0IKI7w6T",
        "outputId": "09210f60-7d2a-4081-c306-789a1ffa1f1e"
      },
      "execution_count": null,
      "outputs": [
        {
          "output_type": "execute_result",
          "data": {
            "text/plain": [
              "(400,)"
            ]
          },
          "metadata": {},
          "execution_count": 75
        }
      ]
    },
    {
      "cell_type": "code",
      "source": [
        "\n",
        "pred=model.predict(x_test)\n",
        "pred"
      ],
      "metadata": {
        "colab": {
          "base_uri": "https://localhost:8080/"
        },
        "id": "xQgyrnT26NR-",
        "outputId": "984edd1d-6ee0-4a83-f0e8-393a1c5afd25"
      },
      "execution_count": null,
      "outputs": [
        {
          "output_type": "execute_result",
          "data": {
            "text/plain": [
              "array([16.80660508, 22.60904639, 19.79805714, 20.36129622, 19.75755654,\n",
              "       22.18001809, -2.79117698, 21.64393554, 21.44953755, 22.15691358,\n",
              "       22.06237374, 22.5685884 , 20.20535392, 20.29834683, 22.01596829,\n",
              "       -2.36955468,  2.9839265 , 20.41776426, 23.99683704, 14.37679487,\n",
              "       21.90507902, 21.21106518, 21.61945486, 22.30956486, 21.13103628,\n",
              "       22.9189252 , 21.94070764, 22.16051475, 22.26371983, 21.35348223,\n",
              "       20.11149006, 21.78020064, 21.40536242, 22.40755032, 20.46635338,\n",
              "       20.62061014, 21.82723249, 21.92070077, 22.44256377, 19.10601216,\n",
              "       22.43410952, 22.22003588, 22.94907161, 22.67830316, 23.37746253,\n",
              "       22.39257094, 23.66892838, -2.22472987, 19.78525827, 16.42417795,\n",
              "        1.52279998,  4.13137235, 19.08018076, 23.27692931, 20.35057283,\n",
              "       23.00512727, 22.65564519, 22.60030578, 22.74508113, 22.06305292,\n",
              "       22.79466026, 20.85189508, 10.07319648, 22.46309813, 21.68842124,\n",
              "       22.81592406, 22.28305719, 20.54729068, 22.38763018, 22.51412215,\n",
              "       22.34029177, 24.07629264, 23.14083275, 21.18271169, 23.19615988,\n",
              "       18.37515894, 21.90176063, 22.91711591, 22.4002877 , 23.17084337,\n",
              "       21.078345  , 23.46516089, 23.03477665, 23.9363082 , 22.83695632,\n",
              "       22.47659803, 22.90520227, 24.54734801,  5.38338944, 14.68345952,\n",
              "       24.12509193, 23.3655221 , 23.30473472, 23.69928616, 21.75398252,\n",
              "       20.96598131, 24.68232231, 20.29933998, 21.80640926, 22.20392184,\n",
              "       23.21285696, 24.70420845, 23.40794024, 22.14744547, 23.74358117,\n",
              "       23.33220583, 23.66197818, 21.2213544 , 21.49494379, 23.15518752,\n",
              "       21.59142439, 23.28633429, 24.43131285, 22.74999605, 23.52657345,\n",
              "       24.60563623, 19.60555946, 23.86929592, 22.87153375, 21.67270924,\n",
              "        4.34406072, 21.0748269 , 23.62809009, 17.94129725, 23.64503961,\n",
              "       23.45441315, 23.42941618, 25.04886191, 21.6788843 , 24.04377827,\n",
              "       22.80392638, 22.56590953, 22.67478993, 23.22831261, 23.63403061,\n",
              "       21.83375897, 21.08029986, 23.49782524, 23.5915065 , 21.87623665,\n",
              "       23.07030726, 23.53030411, 24.92169117, 20.62404006, 20.78316226,\n",
              "       21.75553936, 23.21532739, 20.90621335, 24.39793183, 16.4938301 ,\n",
              "       23.80641979, 24.13681277, 23.28768014,  5.20721947, 24.44083494,\n",
              "       23.88013791, 24.09619295, 20.61961423, 23.2505369 , 23.02570061,\n",
              "       23.03363755, 12.95176803, 17.34804535, 23.33518   ,  3.80197642,\n",
              "       22.8885439 , -0.55933209, 24.90784736, 19.65101199, 24.12938107,\n",
              "       23.65304889, 21.87631359, 24.18495652, 23.19984585, 21.31360675,\n",
              "       21.91179223, 24.16962512, 24.29268517, 23.84564272, 25.30875543,\n",
              "        4.9952627 , 23.73681851, 23.34755142, 24.4203871 , 23.73017515,\n",
              "       17.73737753, 22.4017693 , 24.59146663, 25.4148986 , 22.19099189,\n",
              "       22.48939528, 22.6863334 , 24.02051254, 10.48650862, 24.19246404,\n",
              "       20.67387006, 24.45078019, 23.36031615, 23.16547341, 26.24304547,\n",
              "       25.40027412, 23.8638591 , 22.3721292 , 20.2410083 , 24.49302405,\n",
              "       22.63785636, 24.83194482, 24.70681586, 24.9805348 , 24.68515134,\n",
              "       22.04442842, 21.33248623,  0.76094493, 23.18672475, 22.76363351,\n",
              "       25.0190164 , 14.81362576, 24.65102295, 19.20675117, 14.95846918,\n",
              "       22.62232199, 24.22730656, 24.16429046, 23.93855833, 25.37936986,\n",
              "       25.14131147, 22.8995038 , 11.00012659, 21.5858781 , 25.09905925,\n",
              "       24.12546991, 25.2489687 , 26.01884948, 25.01218789, 24.60181033,\n",
              "       19.69740886, 23.93888601, 25.46187808, 25.28457544, 23.82896729,\n",
              "       25.03593321, 21.91661374, 23.06084237, 24.62826208, 24.73208464,\n",
              "       24.94480251, 24.49423008, 23.04509849, 18.55157147, 25.23111063,\n",
              "        1.09562446, 25.14266871, 25.36569998, 14.92031834, 24.86319233,\n",
              "       25.2410948 , 24.38673841,  5.57624332, 25.52469092, 25.36932725,\n",
              "       22.84744819,  3.55283618, 25.26572233, 24.68470492, 24.70556934,\n",
              "       24.54035728, 23.57605005, 25.62375336, 19.65498376, 21.85556321,\n",
              "       17.98286474, 23.20496494,  0.18751207, 25.25473373, 24.51612889,\n",
              "       23.31388706, 24.43018014, 23.29257471, 24.28477722, 24.66265426,\n",
              "       23.53160624, 25.53770928, 25.10672635, 21.14806721, 19.0175094 ,\n",
              "       25.50848491, 26.14648358, 25.33414867, 25.13517244, 25.32204242,\n",
              "       24.9262539 , 23.22871547, 23.50351334, 25.24266645, 25.33998231,\n",
              "       26.00720585, 21.97939225, 19.50715328, 23.68682656, 25.77447793,\n",
              "       24.28706749, 24.76939236, 23.34942158, 22.65089816, 17.07012872,\n",
              "       22.83432037, 27.57479344, 25.86128862, 25.47268409, 23.8349756 ,\n",
              "        2.17419786, 25.37171667, 17.26533138, 25.67305798, 25.76075532,\n",
              "       25.79314948, 24.60094802, 22.79315869, 24.55512808, 23.96700146,\n",
              "       24.55153101, 19.11207708, 23.45432596, 22.36338758, 26.43876   ,\n",
              "       21.43187722, 27.50812589, 26.01822288, 23.76282153, 21.76142821,\n",
              "       24.22098668, 24.07568977, 26.09364259, 25.12041398, 25.00287164,\n",
              "       25.98540659, 26.56911791,  1.83918289, 26.18797255, 26.28033266,\n",
              "       26.37818459, 26.00012213, 24.57217226, 23.85747273, 26.03817325,\n",
              "       26.15444874, 24.19762248,  3.48204332, 26.16019462,  2.56986877,\n",
              "       19.5691934 , 26.74407548,  1.75963065, 25.97790936, 25.48889294,\n",
              "       26.30828228, 17.43370497, 25.27722956, 26.58434098, 21.56076501,\n",
              "       26.04214545, 25.25224031, 25.73422167, 24.49258248, 25.29213534,\n",
              "       25.6576015 ,  7.6161462 , 21.95052837, 25.10627562,  1.33378552,\n",
              "       26.79008947, 24.55414179, 24.44368169, 26.18517363, 26.41709992,\n",
              "       24.47113531, 26.37637727, 26.62729386, 26.32843374, 25.93332877,\n",
              "       27.26180498, 24.58102389, 27.13512751, 25.28953952, 27.04747102,\n",
              "       24.40501701, 26.35877437, 27.98191798, 22.6960045 , 26.88012411,\n",
              "       24.17675793,  3.53800574, 26.10667792, 25.33480504, 26.70439911,\n",
              "       28.22918294, 26.33275749, 24.83350306, 25.7171497 , 25.854924  ])"
            ]
          },
          "metadata": {},
          "execution_count": 114
        }
      ]
    },
    {
      "cell_type": "code",
      "source": [
        "\n",
        "from sklearn.metrics import mean_absolute_error,r2_score,mean_squared_error\n",
        "mean_absolute_error(y_test,pred)"
      ],
      "metadata": {
        "colab": {
          "base_uri": "https://localhost:8080/"
        },
        "id": "tJSHnXxT7ZIe",
        "outputId": "2aced842-12f9-4c22-98e9-b6a6821b6b3a"
      },
      "execution_count": null,
      "outputs": [
        {
          "output_type": "execute_result",
          "data": {
            "text/plain": [
              "6.477926993768182"
            ]
          },
          "metadata": {},
          "execution_count": 115
        }
      ]
    },
    {
      "cell_type": "code",
      "source": [
        "\n",
        "r2_score(y_test,pred)"
      ],
      "metadata": {
        "colab": {
          "base_uri": "https://localhost:8080/"
        },
        "id": "DiFYNeNE8Bwf",
        "outputId": "b9e06aa9-91b9-4ab4-f4f3-99201a1bee66"
      },
      "execution_count": null,
      "outputs": [
        {
          "output_type": "execute_result",
          "data": {
            "text/plain": [
              "0.0889471825971575"
            ]
          },
          "metadata": {},
          "execution_count": 116
        }
      ]
    },
    {
      "cell_type": "markdown",
      "source": [
        "linear regression"
      ],
      "metadata": {
        "id": "KknDWpV19J9L"
      }
    },
    {
      "cell_type": "code",
      "source": [
        "model=LinearRegression()"
      ],
      "metadata": {
        "id": "uTlSkAeeCjd7"
      },
      "execution_count": null,
      "outputs": []
    },
    {
      "cell_type": "code",
      "source": [
        "model.fit(x,y)"
      ],
      "metadata": {
        "colab": {
          "base_uri": "https://localhost:8080/"
        },
        "id": "QvoYPvrmC6L2",
        "outputId": "39ee56ac-763c-4863-c9b3-0b1613d1d557"
      },
      "execution_count": null,
      "outputs": [
        {
          "output_type": "execute_result",
          "data": {
            "text/plain": [
              "LinearRegression()"
            ]
          },
          "metadata": {},
          "execution_count": 22
        }
      ]
    },
    {
      "cell_type": "code",
      "source": [
        "y_hat=model.predict(x)\n",
        "y_hat"
      ],
      "metadata": {
        "colab": {
          "base_uri": "https://localhost:8080/"
        },
        "id": "s_C3dxFjC_PH",
        "outputId": "1a1d8f6f-63a3-41de-edc2-b62d3e14d9ad"
      },
      "execution_count": null,
      "outputs": [
        {
          "output_type": "execute_result",
          "data": {
            "text/plain": [
              "array([15.26092648, 28.39868049, 32.22803699, 18.32089587, 21.49666452,\n",
              "       16.31560118, 13.38655781, 14.79080394, 20.13811804, 18.46447661,\n",
              "       41.45788091, 28.92110627, 22.29466757,  6.56169071, 33.38330577,\n",
              "       10.18145464, 21.07409265, 21.67678365, 32.97927738, 17.48471819,\n",
              "       30.39306434, 24.27861782, 17.31029368, 26.14749612, 25.08691439,\n",
              "       35.39355046, 19.88019372, 27.18882992, 25.58804884, 21.53505825,\n",
              "       21.66747028, 19.7210449 , 22.15342361, 25.02271498, 19.22301024,\n",
              "        5.54280843, 25.25224444, 31.82549847, 20.57047556, 18.93486867,\n",
              "       29.87877276, 23.04514879, 34.80866496, 18.77873187, 30.75909493,\n",
              "       17.73364806, 32.64247955, 12.64692176, 19.41457655, 17.50907719,\n",
              "        6.16500485, 12.77985935, 18.68813177, 20.48640669, 20.49473301,\n",
              "       10.61674019, 23.7811836 , 23.55031918, 31.15927401, 23.04544822,\n",
              "       22.78518654,  5.73120139, 10.78513113, 21.13044019, 15.5858659 ,\n",
              "       23.10320914, 20.73853486, 13.21120656, 18.51941048, 32.39952981,\n",
              "       23.78105389, 27.3838518 , 21.50014946, 25.08619294, 27.28524814,\n",
              "       24.63843196, 24.83825535, 23.56418401, 24.19983841, 21.95818505,\n",
              "        0.89224087, 34.63693607, 27.19713989, 35.73503087, 13.906936  ,\n",
              "       38.50429663, 31.62270439, 25.47738437,  6.79135279,  2.90618663,\n",
              "       24.99141715, 25.17802873, 37.11633118, 26.8906937 , 24.03119715,\n",
              "       14.60422136, 24.51957526, 17.77782331, 32.38238304, 25.21972245,\n",
              "       27.78620505, 30.90331494, 20.71969979, 16.19973204, 25.84034128,\n",
              "       29.4674689 , 36.18699347, 13.40386206, 12.03849252, 25.97471512,\n",
              "       13.6188459 , 28.15799192, 35.77062887, 38.85754888, 35.63084209,\n",
              "       29.61889776, 18.17643172, 30.48502761,  8.76136665, 13.19071481,\n",
              "       15.49919617, 17.2865267 , 32.98896425, 17.30747083, 25.11097435,\n",
              "       22.78105942, 36.29641126, 40.9390349 ,  6.54609747, 28.35120286,\n",
              "       39.94701734, 37.72049011, 13.96501584, 22.65465482, 22.57932961,\n",
              "       12.8636413 , 21.050145  , 21.69126382, 24.20845916, 22.35320563,\n",
              "       16.50238623, 22.23853509, 24.95677348, 25.40811551, 22.92046641,\n",
              "       22.19077511, 12.25474047, 21.14462257, 28.38078306, 16.51167861,\n",
              "       29.45969747, 34.29740519, 31.73178644, 14.047642  , 23.90297293,\n",
              "       22.93580187, 28.75113461,  6.43553133, 21.95249642, 19.92516287,\n",
              "        8.6208147 , 11.60091502, 21.91845201, 27.10394236, 18.16254922,\n",
              "       15.32191035,  9.46841383, 26.6930572 , 26.00509845, 23.48414233,\n",
              "       18.23122792, 28.54952225, 17.53312132, 17.1292171 , 18.90611219,\n",
              "       31.78968141, 22.65588959, 27.80213851, 28.3762264 , 21.3917424 ,\n",
              "       16.99315947, 20.36058053, 25.18853832, 43.83545731, 37.80868214,\n",
              "       14.11096946, 22.76199162, 25.86185148, 29.83078869, 19.81063557,\n",
              "       20.60132369, 20.58000347, 19.24591913, 15.20411877, 14.35640084,\n",
              "       20.27627865, 25.68632914, 20.52910238, 13.01647771, 31.42325936,\n",
              "       34.69693257, 18.13680034, 20.0785696 , 19.49429373, 28.05708155,\n",
              "       20.59879361, 23.14318095, 39.08845097, 32.93868223, 22.18831726,\n",
              "       18.39069434, 14.57336652, 14.23343887, 35.86166992, 17.9429049 ,\n",
              "       21.55955999, 10.42145825, 28.32849792, 11.65334283, 24.43199151,\n",
              "       15.90999501, 18.14080739, 18.89557227, 25.10290361, 33.57060462,\n",
              "       23.86493665, 17.1984342 , 12.89658318, 12.6773417 , 14.1249753 ,\n",
              "       20.6190508 , 24.22877298, 37.35352803, 30.57878543, 25.05525741,\n",
              "        7.92953611, 23.08322156, 35.11954909, 20.97500576, 22.09139993,\n",
              "       36.34575459,  9.92196887, 12.93877372, 26.51313659, 22.18501129,\n",
              "       21.73077845, 19.2638579 , 16.00438441, 17.5564913 , 19.90500032,\n",
              "       14.47467645, 16.69851878, 34.39479355, 19.155788  , 15.9994462 ,\n",
              "       17.55187654, 22.23995322, 19.85557037, 28.533119  , 25.02624616,\n",
              "       15.15093181, 13.68925356, 21.76192633, 40.66231478, 18.01598452,\n",
              "       21.28570853, 23.05380269, 23.95410199, 13.60240033, 23.36167071,\n",
              "       17.3024814 , 26.3909162 , 16.85468885, 24.26669325, 20.60586719,\n",
              "       33.40964257, 40.66130962, 15.00982672, 16.78030325, 17.16295334,\n",
              "       17.24221229, 20.68981185, 24.3971657 , 37.93004382, 19.1421504 ,\n",
              "       21.93716568, 27.28349387, 17.77053048, 23.00593259, 24.70620625,\n",
              "       28.84998951, 12.28294633, 17.83449371, 20.90776854, 22.61459602,\n",
              "       27.00402275, 23.73300518,  7.21765179, 18.60127703, 20.18729885,\n",
              "       32.79210985,  4.8793487 , 12.41803488, 17.13045924, 13.06473438,\n",
              "        7.23480939, 44.95460016, 21.3199986 , 27.03700114, 19.89141137,\n",
              "       14.574059  , 31.30985814, 16.61316586, 24.80608196, 31.12073489,\n",
              "       30.92140392, 17.10653184, 27.60577508, 23.13097497, 15.37518354,\n",
              "       33.4011226 , 13.90711291, 24.53851147,  6.69739311, 30.63195395,\n",
              "       15.6748892 , 43.28061539, 19.38120315, 10.99617041, 20.1939152 ,\n",
              "       20.98528234, 17.74625929, 22.59562467, 19.26449095, 23.89931788,\n",
              "       41.43279918, 34.6988735 , 13.34024382, 36.49242071, 21.38517376,\n",
              "       34.30756899, 24.7144275 , 21.75376256, 20.2442089 , 25.88659911,\n",
              "       24.81654109, 28.00362649, 12.67176412, 22.55734289,  2.06933862,\n",
              "       15.99298374, 30.55964928,  5.2869496 , 21.40525636, 28.31718065,\n",
              "       25.02425596, 14.57819017, 41.8328144 , 17.98882619, 11.31233752,\n",
              "       18.94879672, 21.30281973, 21.11976515, 15.71293786, 27.23305905,\n",
              "       28.26363587, 19.93093722, 19.56204358, 21.35605937, 13.68120612,\n",
              "       33.85494305, 19.31928631, 12.09398232, 35.64089615, 22.88825372,\n",
              "        8.30836475, 28.79803575, 27.40111629, 19.74670011, 24.6030617 ,\n",
              "       30.1035779 , 19.79836451, 27.45291847, 30.84302719, 30.58193402,\n",
              "       24.16204026, 17.47161953, 31.77508841, 31.47572172, 28.4209533 ,\n",
              "       18.0427067 , 17.4141709 , 25.52197669, 19.60239142, 32.65237239,\n",
              "       31.4238086 , 22.89462719, 19.32402842, 20.7707173 , 28.57267973])"
            ]
          },
          "metadata": {},
          "execution_count": 23
        }
      ]
    },
    {
      "cell_type": "code",
      "source": [
        "out=pd.DataFrame()\n",
        "out[\"y\"]=y\n",
        "out[\"y_hat\"]=y_hat\n",
        "out"
      ],
      "metadata": {
        "colab": {
          "base_uri": "https://localhost:8080/",
          "height": 423
        },
        "id": "WynUI5qCFDP2",
        "outputId": "08f12ab3-d7bb-4d2d-dd28-6f7e17a822c7"
      },
      "execution_count": null,
      "outputs": [
        {
          "output_type": "execute_result",
          "data": {
            "text/plain": [
              "        y      y_hat\n",
              "0    14.8  15.260926\n",
              "1    25.0  28.398680\n",
              "2    41.3  32.228037\n",
              "3    18.4  18.320896\n",
              "4    19.8  21.496665\n",
              "..    ...        ...\n",
              "395  27.9  31.423809\n",
              "396  24.7  22.894627\n",
              "397  19.5  19.324028\n",
              "398  20.4  20.770717\n",
              "399  22.5  28.572680\n",
              "\n",
              "[400 rows x 2 columns]"
            ],
            "text/html": [
              "\n",
              "  <div id=\"df-39ec60fe-14c6-46dd-abf1-1784d27bed67\">\n",
              "    <div class=\"colab-df-container\">\n",
              "      <div>\n",
              "<style scoped>\n",
              "    .dataframe tbody tr th:only-of-type {\n",
              "        vertical-align: middle;\n",
              "    }\n",
              "\n",
              "    .dataframe tbody tr th {\n",
              "        vertical-align: top;\n",
              "    }\n",
              "\n",
              "    .dataframe thead th {\n",
              "        text-align: right;\n",
              "    }\n",
              "</style>\n",
              "<table border=\"1\" class=\"dataframe\">\n",
              "  <thead>\n",
              "    <tr style=\"text-align: right;\">\n",
              "      <th></th>\n",
              "      <th>y</th>\n",
              "      <th>y_hat</th>\n",
              "    </tr>\n",
              "  </thead>\n",
              "  <tbody>\n",
              "    <tr>\n",
              "      <th>0</th>\n",
              "      <td>14.8</td>\n",
              "      <td>15.260926</td>\n",
              "    </tr>\n",
              "    <tr>\n",
              "      <th>1</th>\n",
              "      <td>25.0</td>\n",
              "      <td>28.398680</td>\n",
              "    </tr>\n",
              "    <tr>\n",
              "      <th>2</th>\n",
              "      <td>41.3</td>\n",
              "      <td>32.228037</td>\n",
              "    </tr>\n",
              "    <tr>\n",
              "      <th>3</th>\n",
              "      <td>18.4</td>\n",
              "      <td>18.320896</td>\n",
              "    </tr>\n",
              "    <tr>\n",
              "      <th>4</th>\n",
              "      <td>19.8</td>\n",
              "      <td>21.496665</td>\n",
              "    </tr>\n",
              "    <tr>\n",
              "      <th>...</th>\n",
              "      <td>...</td>\n",
              "      <td>...</td>\n",
              "    </tr>\n",
              "    <tr>\n",
              "      <th>395</th>\n",
              "      <td>27.9</td>\n",
              "      <td>31.423809</td>\n",
              "    </tr>\n",
              "    <tr>\n",
              "      <th>396</th>\n",
              "      <td>24.7</td>\n",
              "      <td>22.894627</td>\n",
              "    </tr>\n",
              "    <tr>\n",
              "      <th>397</th>\n",
              "      <td>19.5</td>\n",
              "      <td>19.324028</td>\n",
              "    </tr>\n",
              "    <tr>\n",
              "      <th>398</th>\n",
              "      <td>20.4</td>\n",
              "      <td>20.770717</td>\n",
              "    </tr>\n",
              "    <tr>\n",
              "      <th>399</th>\n",
              "      <td>22.5</td>\n",
              "      <td>28.572680</td>\n",
              "    </tr>\n",
              "  </tbody>\n",
              "</table>\n",
              "<p>400 rows × 2 columns</p>\n",
              "</div>\n",
              "      <button class=\"colab-df-convert\" onclick=\"convertToInteractive('df-39ec60fe-14c6-46dd-abf1-1784d27bed67')\"\n",
              "              title=\"Convert this dataframe to an interactive table.\"\n",
              "              style=\"display:none;\">\n",
              "        \n",
              "  <svg xmlns=\"http://www.w3.org/2000/svg\" height=\"24px\"viewBox=\"0 0 24 24\"\n",
              "       width=\"24px\">\n",
              "    <path d=\"M0 0h24v24H0V0z\" fill=\"none\"/>\n",
              "    <path d=\"M18.56 5.44l.94 2.06.94-2.06 2.06-.94-2.06-.94-.94-2.06-.94 2.06-2.06.94zm-11 1L8.5 8.5l.94-2.06 2.06-.94-2.06-.94L8.5 2.5l-.94 2.06-2.06.94zm10 10l.94 2.06.94-2.06 2.06-.94-2.06-.94-.94-2.06-.94 2.06-2.06.94z\"/><path d=\"M17.41 7.96l-1.37-1.37c-.4-.4-.92-.59-1.43-.59-.52 0-1.04.2-1.43.59L10.3 9.45l-7.72 7.72c-.78.78-.78 2.05 0 2.83L4 21.41c.39.39.9.59 1.41.59.51 0 1.02-.2 1.41-.59l7.78-7.78 2.81-2.81c.8-.78.8-2.07 0-2.86zM5.41 20L4 18.59l7.72-7.72 1.47 1.35L5.41 20z\"/>\n",
              "  </svg>\n",
              "      </button>\n",
              "      \n",
              "  <style>\n",
              "    .colab-df-container {\n",
              "      display:flex;\n",
              "      flex-wrap:wrap;\n",
              "      gap: 12px;\n",
              "    }\n",
              "\n",
              "    .colab-df-convert {\n",
              "      background-color: #E8F0FE;\n",
              "      border: none;\n",
              "      border-radius: 50%;\n",
              "      cursor: pointer;\n",
              "      display: none;\n",
              "      fill: #1967D2;\n",
              "      height: 32px;\n",
              "      padding: 0 0 0 0;\n",
              "      width: 32px;\n",
              "    }\n",
              "\n",
              "    .colab-df-convert:hover {\n",
              "      background-color: #E2EBFA;\n",
              "      box-shadow: 0px 1px 2px rgba(60, 64, 67, 0.3), 0px 1px 3px 1px rgba(60, 64, 67, 0.15);\n",
              "      fill: #174EA6;\n",
              "    }\n",
              "\n",
              "    [theme=dark] .colab-df-convert {\n",
              "      background-color: #3B4455;\n",
              "      fill: #D2E3FC;\n",
              "    }\n",
              "\n",
              "    [theme=dark] .colab-df-convert:hover {\n",
              "      background-color: #434B5C;\n",
              "      box-shadow: 0px 1px 3px 1px rgba(0, 0, 0, 0.15);\n",
              "      filter: drop-shadow(0px 1px 2px rgba(0, 0, 0, 0.3));\n",
              "      fill: #FFFFFF;\n",
              "    }\n",
              "  </style>\n",
              "\n",
              "      <script>\n",
              "        const buttonEl =\n",
              "          document.querySelector('#df-39ec60fe-14c6-46dd-abf1-1784d27bed67 button.colab-df-convert');\n",
              "        buttonEl.style.display =\n",
              "          google.colab.kernel.accessAllowed ? 'block' : 'none';\n",
              "\n",
              "        async function convertToInteractive(key) {\n",
              "          const element = document.querySelector('#df-39ec60fe-14c6-46dd-abf1-1784d27bed67');\n",
              "          const dataTable =\n",
              "            await google.colab.kernel.invokeFunction('convertToInteractive',\n",
              "                                                     [key], {});\n",
              "          if (!dataTable) return;\n",
              "\n",
              "          const docLinkHtml = 'Like what you see? Visit the ' +\n",
              "            '<a target=\"_blank\" href=https://colab.research.google.com/notebooks/data_table.ipynb>data table notebook</a>'\n",
              "            + ' to learn more about interactive tables.';\n",
              "          element.innerHTML = '';\n",
              "          dataTable['output_type'] = 'display_data';\n",
              "          await google.colab.output.renderOutput(dataTable, element);\n",
              "          const docLink = document.createElement('div');\n",
              "          docLink.innerHTML = docLinkHtml;\n",
              "          element.appendChild(docLink);\n",
              "        }\n",
              "      </script>\n",
              "    </div>\n",
              "  </div>\n",
              "  "
            ]
          },
          "metadata": {},
          "execution_count": 24
        }
      ]
    },
    {
      "cell_type": "code",
      "source": [
        "r2_score(y,y_hat)"
      ],
      "metadata": {
        "colab": {
          "base_uri": "https://localhost:8080/"
        },
        "id": "BgSshk_cDIsm",
        "outputId": "59439c1f-5ecf-443c-93af-0b6fd33e1b88"
      },
      "execution_count": null,
      "outputs": [
        {
          "output_type": "execute_result",
          "data": {
            "text/plain": [
              "0.7475918303802158"
            ]
          },
          "metadata": {},
          "execution_count": 25
        }
      ]
    },
    {
      "cell_type": "code",
      "source": [
        "mean_absolute_error(y,y_hat)"
      ],
      "metadata": {
        "colab": {
          "base_uri": "https://localhost:8080/"
        },
        "id": "PqJa9eiF921t",
        "outputId": "d7bc8838-18c1-4129-c976-6e1c45bd62cd"
      },
      "execution_count": null,
      "outputs": [
        {
          "output_type": "execute_result",
          "data": {
            "text/plain": [
              "3.115630690683837"
            ]
          },
          "metadata": {},
          "execution_count": 29
        }
      ]
    },
    {
      "cell_type": "code",
      "source": [
        "pred=model.predict(x_test)\n",
        "pred"
      ],
      "metadata": {
        "id": "MudoU1H6DZmv",
        "colab": {
          "base_uri": "https://localhost:8080/"
        },
        "outputId": "e4382d55-23d7-46cf-f3a9-07c03188cc85"
      },
      "execution_count": null,
      "outputs": [
        {
          "output_type": "execute_result",
          "data": {
            "text/plain": [
              "array([15.26092648, 28.39868049, 32.22803699, 18.32089587, 21.49666452,\n",
              "       16.31560118, 13.38655781, 14.79080394, 20.13811804, 18.46447661,\n",
              "       41.45788091, 28.92110627, 22.29466757,  6.56169071, 33.38330577,\n",
              "       10.18145464, 21.07409265, 21.67678365, 32.97927738, 17.48471819,\n",
              "       30.39306434, 24.27861782, 17.31029368, 26.14749612, 25.08691439,\n",
              "       35.39355046, 19.88019372, 27.18882992, 25.58804884, 21.53505825,\n",
              "       21.66747028, 19.7210449 , 22.15342361, 25.02271498, 19.22301024,\n",
              "        5.54280843, 25.25224444, 31.82549847, 20.57047556, 18.93486867,\n",
              "       29.87877276, 23.04514879, 34.80866496, 18.77873187, 30.75909493,\n",
              "       17.73364806, 32.64247955, 12.64692176, 19.41457655, 17.50907719,\n",
              "        6.16500485, 12.77985935, 18.68813177, 20.48640669, 20.49473301,\n",
              "       10.61674019, 23.7811836 , 23.55031918, 31.15927401, 23.04544822,\n",
              "       22.78518654,  5.73120139, 10.78513113, 21.13044019, 15.5858659 ,\n",
              "       23.10320914, 20.73853486, 13.21120656, 18.51941048, 32.39952981,\n",
              "       23.78105389, 27.3838518 , 21.50014946, 25.08619294, 27.28524814,\n",
              "       24.63843196, 24.83825535, 23.56418401, 24.19983841, 21.95818505,\n",
              "        0.89224087, 34.63693607, 27.19713989, 35.73503087, 13.906936  ,\n",
              "       38.50429663, 31.62270439, 25.47738437,  6.79135279,  2.90618663,\n",
              "       24.99141715, 25.17802873, 37.11633118, 26.8906937 , 24.03119715,\n",
              "       14.60422136, 24.51957526, 17.77782331, 32.38238304, 25.21972245,\n",
              "       27.78620505, 30.90331494, 20.71969979, 16.19973204, 25.84034128,\n",
              "       29.4674689 , 36.18699347, 13.40386206, 12.03849252, 25.97471512,\n",
              "       13.6188459 , 28.15799192, 35.77062887, 38.85754888, 35.63084209,\n",
              "       29.61889776, 18.17643172, 30.48502761,  8.76136665, 13.19071481,\n",
              "       15.49919617, 17.2865267 , 32.98896425, 17.30747083, 25.11097435,\n",
              "       22.78105942, 36.29641126, 40.9390349 ,  6.54609747, 28.35120286,\n",
              "       39.94701734, 37.72049011, 13.96501584, 22.65465482, 22.57932961,\n",
              "       12.8636413 , 21.050145  , 21.69126382, 24.20845916, 22.35320563,\n",
              "       16.50238623, 22.23853509, 24.95677348, 25.40811551, 22.92046641,\n",
              "       22.19077511, 12.25474047, 21.14462257, 28.38078306, 16.51167861,\n",
              "       29.45969747, 34.29740519, 31.73178644, 14.047642  , 23.90297293,\n",
              "       22.93580187, 28.75113461,  6.43553133, 21.95249642, 19.92516287,\n",
              "        8.6208147 , 11.60091502, 21.91845201, 27.10394236, 18.16254922,\n",
              "       15.32191035,  9.46841383, 26.6930572 , 26.00509845, 23.48414233,\n",
              "       18.23122792, 28.54952225, 17.53312132, 17.1292171 , 18.90611219,\n",
              "       31.78968141, 22.65588959, 27.80213851, 28.3762264 , 21.3917424 ,\n",
              "       16.99315947, 20.36058053, 25.18853832, 43.83545731, 37.80868214,\n",
              "       14.11096946, 22.76199162, 25.86185148, 29.83078869, 19.81063557,\n",
              "       20.60132369, 20.58000347, 19.24591913, 15.20411877, 14.35640084,\n",
              "       20.27627865, 25.68632914, 20.52910238, 13.01647771, 31.42325936,\n",
              "       34.69693257, 18.13680034, 20.0785696 , 19.49429373, 28.05708155,\n",
              "       20.59879361, 23.14318095, 39.08845097, 32.93868223, 22.18831726,\n",
              "       18.39069434, 14.57336652, 14.23343887, 35.86166992, 17.9429049 ,\n",
              "       21.55955999, 10.42145825, 28.32849792, 11.65334283, 24.43199151,\n",
              "       15.90999501, 18.14080739, 18.89557227, 25.10290361, 33.57060462,\n",
              "       23.86493665, 17.1984342 , 12.89658318, 12.6773417 , 14.1249753 ,\n",
              "       20.6190508 , 24.22877298, 37.35352803, 30.57878543, 25.05525741,\n",
              "        7.92953611, 23.08322156, 35.11954909, 20.97500576, 22.09139993,\n",
              "       36.34575459,  9.92196887, 12.93877372, 26.51313659, 22.18501129,\n",
              "       21.73077845, 19.2638579 , 16.00438441, 17.5564913 , 19.90500032,\n",
              "       14.47467645, 16.69851878, 34.39479355, 19.155788  , 15.9994462 ,\n",
              "       17.55187654, 22.23995322, 19.85557037, 28.533119  , 25.02624616,\n",
              "       15.15093181, 13.68925356, 21.76192633, 40.66231478, 18.01598452,\n",
              "       21.28570853, 23.05380269, 23.95410199, 13.60240033, 23.36167071,\n",
              "       17.3024814 , 26.3909162 , 16.85468885, 24.26669325, 20.60586719,\n",
              "       33.40964257, 40.66130962, 15.00982672, 16.78030325, 17.16295334,\n",
              "       17.24221229, 20.68981185, 24.3971657 , 37.93004382, 19.1421504 ,\n",
              "       21.93716568, 27.28349387, 17.77053048, 23.00593259, 24.70620625,\n",
              "       28.84998951, 12.28294633, 17.83449371, 20.90776854, 22.61459602,\n",
              "       27.00402275, 23.73300518,  7.21765179, 18.60127703, 20.18729885,\n",
              "       32.79210985,  4.8793487 , 12.41803488, 17.13045924, 13.06473438,\n",
              "        7.23480939, 44.95460016, 21.3199986 , 27.03700114, 19.89141137,\n",
              "       14.574059  , 31.30985814, 16.61316586, 24.80608196, 31.12073489,\n",
              "       30.92140392, 17.10653184, 27.60577508, 23.13097497, 15.37518354,\n",
              "       33.4011226 , 13.90711291, 24.53851147,  6.69739311, 30.63195395,\n",
              "       15.6748892 , 43.28061539, 19.38120315, 10.99617041, 20.1939152 ,\n",
              "       20.98528234, 17.74625929, 22.59562467, 19.26449095, 23.89931788,\n",
              "       41.43279918, 34.6988735 , 13.34024382, 36.49242071, 21.38517376,\n",
              "       34.30756899, 24.7144275 , 21.75376256, 20.2442089 , 25.88659911,\n",
              "       24.81654109, 28.00362649, 12.67176412, 22.55734289,  2.06933862,\n",
              "       15.99298374, 30.55964928,  5.2869496 , 21.40525636, 28.31718065,\n",
              "       25.02425596, 14.57819017, 41.8328144 , 17.98882619, 11.31233752,\n",
              "       18.94879672, 21.30281973, 21.11976515, 15.71293786, 27.23305905,\n",
              "       28.26363587, 19.93093722, 19.56204358, 21.35605937, 13.68120612,\n",
              "       33.85494305, 19.31928631, 12.09398232, 35.64089615, 22.88825372,\n",
              "        8.30836475, 28.79803575, 27.40111629, 19.74670011, 24.6030617 ,\n",
              "       30.1035779 , 19.79836451, 27.45291847, 30.84302719, 30.58193402,\n",
              "       24.16204026, 17.47161953, 31.77508841, 31.47572172, 28.4209533 ,\n",
              "       18.0427067 , 17.4141709 , 25.52197669, 19.60239142, 32.65237239,\n",
              "       31.4238086 , 22.89462719, 19.32402842, 20.7707173 , 28.57267973])"
            ]
          },
          "metadata": {},
          "execution_count": 26
        }
      ]
    },
    {
      "cell_type": "code",
      "source": [
        "r2_score(y_test,pred)"
      ],
      "metadata": {
        "colab": {
          "base_uri": "https://localhost:8080/"
        },
        "id": "1MSXtnEZ9hlF",
        "outputId": "7f120138-3e15-409e-8fc2-9583cc71972e"
      },
      "execution_count": null,
      "outputs": [
        {
          "output_type": "execute_result",
          "data": {
            "text/plain": [
              "0.7475918303802158"
            ]
          },
          "metadata": {},
          "execution_count": 27
        }
      ]
    },
    {
      "cell_type": "code",
      "source": [
        "mean_absolute_error(y_test,pred)"
      ],
      "metadata": {
        "colab": {
          "base_uri": "https://localhost:8080/"
        },
        "id": "h-RLJcAt9nFz",
        "outputId": "19d2163b-bab7-496b-f5ff-1289a0995b1a"
      },
      "execution_count": null,
      "outputs": [
        {
          "output_type": "execute_result",
          "data": {
            "text/plain": [
              "3.115630690683837"
            ]
          },
          "metadata": {},
          "execution_count": 28
        }
      ]
    },
    {
      "cell_type": "markdown",
      "source": [
        "Gradient descent with l1 reglurization"
      ],
      "metadata": {
        "id": "CDtMRgXDDL4z"
      }
    },
    {
      "cell_type": "code",
      "source": [
        "from sklearn.linear_model import SGDRegressor\n",
        "model=SGDRegressor(eta0=0.001,penalty=\"l1\")\n",
        "model.fit(x,y)"
      ],
      "metadata": {
        "colab": {
          "base_uri": "https://localhost:8080/"
        },
        "id": "RsYkpzCR9uRO",
        "outputId": "5b79aa59-324a-42ac-cb04-bf10b80026d8"
      },
      "execution_count": null,
      "outputs": [
        {
          "output_type": "execute_result",
          "data": {
            "text/plain": [
              "SGDRegressor(eta0=0.001, penalty='l1')"
            ]
          },
          "metadata": {},
          "execution_count": 122
        }
      ]
    },
    {
      "cell_type": "code",
      "source": [
        "pred=model.predict(x_test)\n",
        "pred"
      ],
      "metadata": {
        "colab": {
          "base_uri": "https://localhost:8080/"
        },
        "id": "xgAvaswhD9W-",
        "outputId": "e72608f1-4424-47ce-ca39-69fe93a82f55"
      },
      "execution_count": null,
      "outputs": [
        {
          "output_type": "execute_result",
          "data": {
            "text/plain": [
              "array([ 3.05038590e+12,  2.85304049e+12,  3.16791563e+12,  1.04646246e+12,\n",
              "        2.37227752e+12, -1.31051233e+12, -6.96478583e+12,  3.39152307e+12,\n",
              "        3.75205413e+12,  4.22733988e+12,  3.18786324e+12,  1.70269021e+12,\n",
              "        7.15805896e+11, -2.42863517e+11,  4.16293436e+12, -6.29472342e+12,\n",
              "       -4.60623841e+12,  5.69645424e+11, -3.95138724e+11, -1.45545737e+12,\n",
              "        3.62459670e+12,  3.53314615e+12,  2.77511730e+12,  3.72173260e+12,\n",
              "        3.37420680e+12,  4.97795601e+12,  3.78410573e+12,  3.66437524e+12,\n",
              "        3.41004613e+12,  1.61132210e+12, -1.64325380e+11,  2.56903104e+12,\n",
              "        3.43475542e+12,  4.43414192e+12, -5.68582313e+10, -4.65348694e+11,\n",
              "        3.23737782e+12, -2.07442839e+12,  1.99586481e+12, -7.99412994e+11,\n",
              "       -5.97728167e+11,  3.31876102e+12,  2.52421410e+12,  3.95978726e+12,\n",
              "        1.97855384e+12,  3.26190322e+12,  2.09894405e+12, -7.14256343e+12,\n",
              "       -6.68443135e+11, -1.63375871e+12, -6.32998842e+12, -3.07211837e+12,\n",
              "        1.25663704e+12,  1.80560915e+11, -8.87222178e+11,  3.68001056e+12,\n",
              "        2.98056464e+12,  3.11003439e+12, -1.03441825e+12,  1.66117591e+12,\n",
              "        2.80965544e+12, -1.27863903e+12, -4.46375662e+12,  1.47702581e+12,\n",
              "        2.45829123e+12,  2.69803316e+12,  1.55966419e+12, -1.23012024e+12,\n",
              "        1.95319643e+12,  2.46224038e+12,  1.62816953e+12, -2.37245175e+12,\n",
              "        1.72915839e+12, -1.32167734e+12,  1.42014401e+12, -1.93320883e+12,\n",
              "       -1.55114939e+09,  2.15418308e+12,  1.67271126e+12,  2.63404545e+12,\n",
              "       -1.66301873e+12,  1.50813614e+12,  2.47840907e+12,  1.92829419e+10,\n",
              "        3.96202792e+11,  1.94627603e+12,  1.09321507e+12, -2.55511713e+12,\n",
              "       -6.70143362e+12, -3.87874216e+12, -3.88017529e+12,  2.59319195e+12,\n",
              "        1.10124416e+12,  6.29466228e+11,  9.48469562e+11,  1.26210017e+12,\n",
              "       -3.54656332e+12,  5.76266710e+11,  1.36898115e+12,  9.30007974e+11,\n",
              "        2.02946765e+12, -2.64111482e+12,  1.92176642e+12, -3.31965599e+11,\n",
              "        6.69850063e+09,  1.58346675e+12,  8.62904673e+11, -4.32142284e+12,\n",
              "       -2.53685626e+12,  1.39033132e+12, -2.11017606e+12,  1.66688165e+12,\n",
              "        2.30787018e+11,  1.16750372e+12,  4.74823840e+11, -4.18189027e+12,\n",
              "       -3.12457734e+12, -5.98194994e+12,  1.85926577e+11, -2.40800447e+12,\n",
              "       -7.59651021e+12, -2.65884967e+12, -2.80173131e+12, -3.79772053e+12,\n",
              "        1.37918073e+12,  1.27830266e+12,  1.25304712e+11, -3.65438720e+12,\n",
              "       -2.80518187e+12, -6.86643254e+11, -3.72462449e+10,  4.80415317e+11,\n",
              "       -4.45269910e+11,  1.48320025e+11,  6.91028624e+11, -2.91944110e+12,\n",
              "       -3.29466984e+12,  1.00567136e+12,  4.54049168e+11, -2.86154956e+12,\n",
              "       -5.80376358e+11,  1.52787689e+12, -4.88235030e+12, -3.53630674e+12,\n",
              "       -3.40719430e+12, -3.20147141e+12, -6.11181821e+11, -3.30111483e+12,\n",
              "       -2.19171080e+11, -4.81841287e+12,  6.25312874e+11, -3.58932772e+12,\n",
              "       -3.93880934e+12, -8.37147308e+12, -1.12955263e+12,  2.30086064e+11,\n",
              "        6.45826067e+11, -4.10331068e+12, -1.20399752e+12, -1.83103866e+12,\n",
              "       -1.11389786e+12, -6.40759509e+12, -2.72649755e+12, -3.94173208e+12,\n",
              "       -9.09353816e+12, -1.42630800e+12, -1.05473173e+13, -3.53647547e+12,\n",
              "       -2.26037970e+12, -8.58920655e+10, -2.56073305e+11, -8.63882055e+11,\n",
              "        1.10284453e+10, -1.74471132e+12, -4.29108074e+12, -1.16659062e+12,\n",
              "       -3.33619921e+11, -2.50981588e+12, -2.74077661e+12, -5.86059964e+12,\n",
              "       -9.15823400e+12, -1.44483775e+12, -2.15926289e+12, -1.48843046e+12,\n",
              "       -7.49200121e+11, -5.52555302e+12, -4.44126182e+12, -1.41524325e+12,\n",
              "       -7.78990046e+12, -4.38377637e+12, -4.45008132e+12, -6.31072944e+12,\n",
              "       -8.84920437e+11, -5.70769283e+12, -9.26808259e+11, -3.07235619e+12,\n",
              "       -6.81113839e+11, -6.35806278e+12, -1.38062558e+12, -6.06407095e+12,\n",
              "       -6.48458064e+12, -2.09615386e+12, -4.81576064e+12, -5.38715204e+12,\n",
              "       -1.18297965e+12, -4.77868806e+12, -2.87463551e+12, -1.90955912e+12,\n",
              "       -4.39115730e+11, -9.66128137e+11, -5.12278892e+12, -3.20886206e+12,\n",
              "       -1.13917917e+13, -2.35772270e+12, -5.12931094e+12, -2.54538525e+12,\n",
              "       -4.54364151e+12, -6.01333959e+12, -6.50598399e+12, -5.27415146e+12,\n",
              "       -5.30431363e+12, -1.95488784e+12, -2.69807013e+12, -1.94170582e+12,\n",
              "       -3.30301441e+12, -2.67620766e+12, -5.58019444e+12, -6.70931650e+12,\n",
              "       -3.24428146e+12, -7.60705962e+12, -1.12139913e+12, -2.40572147e+12,\n",
              "       -7.24471736e+12, -1.66007746e+12, -2.11908050e+12, -6.87853701e+12,\n",
              "       -3.52907342e+12, -2.90166278e+12, -3.73433639e+12, -3.68782142e+12,\n",
              "       -1.99753102e+12, -4.03131772e+12, -5.90449301e+12, -2.39306562e+12,\n",
              "       -2.04924958e+12, -4.18062764e+12, -3.43196363e+12, -6.51191326e+12,\n",
              "       -7.35167847e+12, -5.09845901e+12, -1.26968231e+13, -7.70723778e+12,\n",
              "       -3.32982113e+12, -8.56803439e+12, -2.66615782e+12, -2.22629221e+12,\n",
              "       -1.92149590e+12, -9.02420340e+12, -4.32936192e+12, -2.22404048e+12,\n",
              "       -4.11511258e+12, -1.22485591e+13, -2.56232004e+12, -3.80879869e+12,\n",
              "       -3.10114290e+12, -3.73868309e+12, -6.13546479e+12, -4.18447352e+12,\n",
              "       -4.69410888e+12, -4.82870809e+12, -8.24641042e+12, -6.82534767e+12,\n",
              "       -1.34946426e+13, -5.29579998e+12, -4.44330823e+12, -6.74463186e+12,\n",
              "       -3.52072969e+12, -7.22644773e+12, -4.28815572e+12, -3.60796078e+12,\n",
              "       -6.99172308e+12, -3.03565399e+12, -3.58927293e+12, -7.66886110e+12,\n",
              "       -8.45229411e+12, -3.28481226e+12, -7.22087202e+12, -3.41520497e+12,\n",
              "       -3.43752533e+12, -3.65657425e+12, -6.68184805e+12, -4.36663854e+12,\n",
              "       -7.78146847e+12, -5.41291805e+12, -4.06168792e+12, -4.75862367e+12,\n",
              "       -7.89522996e+12, -9.71765696e+12, -7.70929014e+12, -3.46223612e+12,\n",
              "       -1.00245993e+13, -5.32584849e+12, -8.15702175e+12, -7.99906472e+12,\n",
              "       -7.56256662e+12, -9.58003711e+12, -8.86534788e+12, -3.69929856e+12,\n",
              "       -4.09028003e+12, -7.79660483e+12, -1.43349521e+13, -4.35596127e+12,\n",
              "       -7.54268569e+12, -4.40511645e+12, -6.48494162e+12, -4.22633643e+12,\n",
              "       -3.73964543e+12, -6.01209268e+12, -5.86992652e+12, -4.04662107e+12,\n",
              "       -4.93846995e+12, -9.58443329e+12, -5.98660729e+12, -9.02862853e+12,\n",
              "       -3.44375995e+12, -9.02998281e+12, -9.98769865e+12, -4.18931967e+12,\n",
              "       -8.67535671e+12, -7.14466784e+12, -6.79154205e+12, -8.59515950e+12,\n",
              "       -3.88764020e+12, -6.11635460e+12, -5.17717145e+12, -5.85366046e+12,\n",
              "       -7.33605048e+12, -1.60085145e+13, -4.27095861e+12, -4.49840726e+12,\n",
              "       -5.88009248e+12, -5.18756747e+12, -6.07669708e+12, -9.13194590e+12,\n",
              "       -4.88554593e+12, -6.88191302e+12, -8.91199183e+12, -1.50559705e+13,\n",
              "       -8.47227529e+12, -1.56207589e+13, -7.67929451e+12, -1.04227786e+13,\n",
              "       -1.73450729e+13, -5.73023389e+12, -8.05463166e+12, -5.28926227e+12,\n",
              "       -8.10605078e+12, -6.59655729e+12, -7.06720156e+12, -1.02868378e+13,\n",
              "       -5.94509209e+12, -6.00347971e+12, -6.74390082e+12, -7.30536644e+12,\n",
              "       -8.50661958e+12, -5.99739273e+12, -1.22210686e+13, -1.01432753e+13,\n",
              "       -7.25693909e+12, -1.63552047e+13, -4.83060195e+12, -9.53380128e+12,\n",
              "       -1.01217489e+13, -6.19922271e+12, -7.07728064e+12, -1.00250442e+13,\n",
              "       -6.07841991e+12, -5.74913255e+12, -6.32547822e+12, -7.03363471e+12,\n",
              "       -8.52557054e+12, -1.00953527e+13, -1.03598914e+13, -7.14439242e+12,\n",
              "       -8.53393482e+12, -8.54432539e+12, -7.97077684e+12, -1.20992008e+13,\n",
              "       -8.35265369e+12, -5.93420584e+12, -1.03270316e+13, -1.64810273e+13,\n",
              "       -7.45261832e+12, -7.96124662e+12, -6.54016955e+12, -1.12422392e+13,\n",
              "       -6.98368173e+12, -1.03727402e+13, -7.68803286e+12, -1.24139055e+13])"
            ]
          },
          "metadata": {},
          "execution_count": 123
        }
      ]
    },
    {
      "cell_type": "code",
      "source": [
        "mean_absolute_error(y_test,pred)"
      ],
      "metadata": {
        "colab": {
          "base_uri": "https://localhost:8080/"
        },
        "id": "ekp1F1XZET1H",
        "outputId": "521f26ec-bf55-4746-ded7-9164859d6e2c"
      },
      "execution_count": null,
      "outputs": [
        {
          "output_type": "execute_result",
          "data": {
            "text/plain": [
              "4446848652290.824"
            ]
          },
          "metadata": {},
          "execution_count": 124
        }
      ]
    },
    {
      "cell_type": "code",
      "source": [
        "r2_score(y_test,pred)"
      ],
      "metadata": {
        "colab": {
          "base_uri": "https://localhost:8080/"
        },
        "id": "45uWawp2Ea37",
        "outputId": "466eda69-5ba6-4ef7-9c64-7a94bae89327"
      },
      "execution_count": null,
      "outputs": [
        {
          "output_type": "execute_result",
          "data": {
            "text/plain": [
              "-3.6063794913512295e+23"
            ]
          },
          "metadata": {},
          "execution_count": 125
        }
      ]
    },
    {
      "cell_type": "code",
      "source": [
        "plt.plot(test_id,y_test,\".\")\n",
        "plt.show()"
      ],
      "metadata": {
        "colab": {
          "base_uri": "https://localhost:8080/",
          "height": 265
        },
        "id": "Vx2JJP6RUyEX",
        "outputId": "7353953e-9f8f-4aae-f2fb-ab82548e39e9"
      },
      "execution_count": null,
      "outputs": [
        {
          "output_type": "display_data",
          "data": {
            "text/plain": [
              "<Figure size 432x288 with 1 Axes>"
            ],
            "image/png": "[encoded data removed]"
          },
          "metadata": {
            "needs_background": "light"
          }
        }
      ]
    },
    {
      "cell_type": "code",
      "source": [
        ""
      ],
      "metadata": {
        "id": "jx89exg5EfnG"
      },
      "execution_count": null,
      "outputs": []
    }
  ]
}